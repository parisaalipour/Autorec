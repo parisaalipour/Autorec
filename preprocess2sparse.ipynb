{
 "cells": [
  {
   "cell_type": "code",
   "execution_count": 1,
   "id": "e9376b12",
   "metadata": {},
   "outputs": [
    {
     "name": "stdout",
     "output_type": "stream",
     "text": [
      "Calling: update_train\n",
      "Calling: update_test\n"
     ]
    }
   ],
   "source": [
    "from __future__ import print_function, division\n",
    "from builtins import range, input\n",
    "# Note: you may need to update your version of future\n",
    "# sudo pip install -U future\n",
    "\n",
    "import numpy as np\n",
    "import pandas as pd\n",
    "import matplotlib.pyplot as plt\n",
    "from sklearn.utils import shuffle\n",
    "from scipy.sparse import lil_matrix, csr_matrix, save_npz, load_npz\n",
    "\n",
    "# load in the data\n",
    "df = pd.read_csv('C:\\\\Users\\\\p\\\\Notebooks\\\\Collaborative Filtering\\\\edited_rating.csv')\n",
    "\n",
    "N = df.userId.max() + 1 # number of users\n",
    "M = df.movie_idx.max() + 1 # number of movies\n",
    "\n",
    "# split into train and test\n",
    "df = shuffle(df)\n",
    "cutoff = int(0.8*len(df))\n",
    "df_train = df.iloc[:cutoff]\n",
    "df_test = df.iloc[cutoff:]\n",
    "\n",
    "A = lil_matrix((N, M))\n",
    "print(\"Calling: update_train\")\n",
    "count = 0\n",
    "def update_train(row):\n",
    "  global count\n",
    "  count += 1\n",
    "  if count % 100000 == 0:\n",
    "    print(\"processed: %.3f\" % (float(count)/cutoff))\n",
    "\n",
    "  i = int(row.userId)\n",
    "  j = int(row.movie_idx)\n",
    "  A[i,j] = row.rating\n",
    "df_train.apply(update_train, axis=1)\n",
    "\n",
    "# mask, to tell us which entries exist and which do not\n",
    "A = A.tocsr()\n",
    "mask = (A > 0)\n",
    "save_npz(\"Atrain.npz\", A)\n",
    "\n",
    "# test ratings dictionary\n",
    "A_test = lil_matrix((N, M))\n",
    "print(\"Calling: update_test\")\n",
    "count = 0\n",
    "def update_test(row):\n",
    "  global count\n",
    "  count += 1\n",
    "  if count % 100000 == 0:\n",
    "    print(\"processed: %.3f\" % (float(count)/len(df_test)))\n",
    "\n",
    "  i = int(row.userId)\n",
    "  j = int(row.movie_idx)\n",
    "  A_test[i,j] = row.rating\n",
    "df_test.apply(update_test, axis=1)\n",
    "A_test = A_test.tocsr()\n",
    "mask_test = (A_test > 0)\n",
    "save_npz(\"Atest.npz\", A_test)"
   ]
  },
  {
   "cell_type": "code",
   "execution_count": null,
   "id": "5c3ed191",
   "metadata": {},
   "outputs": [],
   "source": []
  }
 ],
 "metadata": {
  "kernelspec": {
   "display_name": "Python 3",
   "language": "python",
   "name": "python3"
  },
  "language_info": {
   "codemirror_mode": {
    "name": "ipython",
    "version": 3
   },
   "file_extension": ".py",
   "mimetype": "text/x-python",
   "name": "python",
   "nbconvert_exporter": "python",
   "pygments_lexer": "ipython3",
   "version": "3.8.8"
  }
 },
 "nbformat": 4,
 "nbformat_minor": 5
}
