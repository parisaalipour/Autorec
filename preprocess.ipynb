{
 "cells": [
  {
   "cell_type": "code",
   "execution_count": 5,
   "metadata": {},
   "outputs": [],
   "source": [
    "from __future__ import print_function, division\n",
    "from builtins import range, input\n",
    "# Note: you may need to update your version of future\n",
    "# sudo pip install -U future\n",
    "\n",
    "import pandas as pd\n",
    "\n",
    "# https://www.kaggle.com/grouplens/movielens-100k-dataset\n",
    "df = pd.read_csv('C:\\\\Users\\\\p\\\\Notebooks\\\\Collaborative Filtering\\\\ml-100k\\\\u.data', \n",
    "                 sep='\\t', names=['userId','movieId','rating','timestamp'])\n",
    "\n",
    "\n",
    "\n",
    "# note:\n",
    "# user ids are ordered sequentially with no missing numbers\n",
    "# movie ids are integer numbers\n",
    "# NOT all movie ids appear\n",
    "\n",
    "\n",
    "# make the user ids go from 0...N-1\n",
    "df.userId = df.userId - 1\n",
    "\n",
    "# create a mapping for movie ids\n",
    "unique_movie_ids = set(df.movieId.values)\n",
    "movie2idx = {}\n",
    "count = 0\n",
    "for movie_id in unique_movie_ids:\n",
    "  movie2idx[movie_id] = count\n",
    "  count += 1\n",
    "\n",
    "# add them to the data frame\n",
    "df['movie_idx'] = df.apply(lambda row: movie2idx[row.movieId], axis=1)\n",
    "\n",
    "df = df.drop(columns=['timestamp'])\n",
    "\n",
    "df.to_csv('C:\\\\Users\\\\p\\\\Notebooks\\\\Collaborative Filtering\\\\edited_rating.csv', index=False)"
   ]
  },
  {
   "cell_type": "code",
   "execution_count": null,
   "metadata": {},
   "outputs": [],
   "source": []
  }
 ],
 "metadata": {
  "kernelspec": {
   "display_name": "Python 3",
   "language": "python",
   "name": "python3"
  },
  "language_info": {
   "codemirror_mode": {
    "name": "ipython",
    "version": 3
   },
   "file_extension": ".py",
   "mimetype": "text/x-python",
   "name": "python",
   "nbconvert_exporter": "python",
   "pygments_lexer": "ipython3",
   "version": "3.8.8"
  }
 },
 "nbformat": 4,
 "nbformat_minor": 4
}
