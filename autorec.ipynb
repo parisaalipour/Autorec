{
 "cells": [
  {
   "cell_type": "code",
   "execution_count": 221,
   "id": "fcac0688",
   "metadata": {},
   "outputs": [],
   "source": [
    "from __future__ import print_function, division\n",
    "from builtins import range\n",
    "# Note: you may need to update your version of future\n",
    "# sudo pip install -U future\n",
    "\n",
    "import numpy as np\n",
    "import pandas as pd\n",
    "import matplotlib.pyplot as plt\n",
    "from sklearn.utils import shuffle\n",
    "from scipy.sparse import save_npz, load_npz\n",
    "\n",
    "import keras.backend as K\n",
    "from keras.models import Model\n",
    "from keras.layers import Input, Dropout, Dense\n",
    "from keras.regularizers import l2\n",
    "from keras.optimizers import SGD\n"
   ]
  },
  {
   "cell_type": "code",
   "execution_count": 222,
   "id": "50b561e2",
   "metadata": {},
   "outputs": [
    {
     "name": "stdout",
     "output_type": "stream",
     "text": [
      "N: 943 M: 1682\n",
      "N // batch_size: 7\n",
      "mu: 3.53005\n"
     ]
    }
   ],
   "source": [
    "# config\n",
    "batch_size = 128\n",
    "epochs = 20\n",
    "reg = 0.0001\n",
    "# reg = 0\n",
    "\n",
    "# load data\n",
    "A = load_npz(\"Atrain.npz\")\n",
    "A_test = load_npz(\"Atest.npz\")\n",
    "\n",
    "# create mask variables, so we know which entries are not missing\n",
    "# we use gt 0 condition since all of our ratings are between 0.5 and 5.0\n",
    "mask = (A > 0) * 1.0\n",
    "mask_test = (A_test > 0) * 1.0\n",
    "\n",
    "# make copies since we will shuffle\n",
    "# because each user occupying the same row in the train and test matrices, and each row index is actually a user_id\n",
    "A_copy = A.copy()\n",
    "mask_copy = mask.copy()\n",
    "A_test_copy = A_test.copy()\n",
    "mask_test_copy = mask_test.copy()\n",
    "A_pred_copy = A_test.copy()\n",
    "\n",
    "N, M = A.shape\n",
    "print(\"N:\", N, \"M:\", M)\n",
    "print(\"N // batch_size:\", N // batch_size)\n",
    "\n",
    "# center the data\n",
    "# mu = sum of all the ratings devided by (the number of the ratings = sum of each entry in the mask, since it contains only zeros and ones)\n",
    "mu = A.sum() / mask.sum()\n",
    "print(\"mu:\", mu)"
   ]
  },
  {
   "cell_type": "code",
   "execution_count": 223,
   "id": "a81d612b",
   "metadata": {},
   "outputs": [],
   "source": [
    "# build the model - just a 1 hidden layer autoencoder\n",
    "i = Input(shape=(M,))\n",
    "\n",
    "# we wanna add some noise to the input(make some ratings zero), it will help model to learn better\n",
    "x = Dropout(0.7)(i)\n",
    "\n",
    "# even though we use dropout regularization, l2 regularization also helps\n",
    "x = Dense(700, activation='tanh', kernel_regularizer=l2(reg))(x)\n",
    "\n",
    "x = Dense(M, kernel_regularizer=l2(reg))(x)\n"
   ]
  },
  {
   "cell_type": "code",
   "execution_count": 224,
   "id": "f36f4cda",
   "metadata": {},
   "outputs": [],
   "source": [
    "\n",
    "# we can't use keras's mse anymore! because it's going to count the delta at every output node, \n",
    "# even the ones were the ratings unknown so it's going to pull those outputs down to zero, \n",
    "# even though that shouldn't be\n",
    "\n",
    "\n",
    "\n",
    "\n",
    "def custom_loss(y_true, y_pred):\n",
    "\n",
    "# create a mask, the reason why we don't use our existing mask is because the arguments into the \n",
    "# loss function must be the targets and then predictions\n",
    "# make the mask by finding all the entries of y_true which are not 0.\n",
    "# that returns a boolean array and then we have to cast it to an array of zeros and ones by using K.cast\n",
    "  mask = K.cast(K.not_equal(y_true, 0), dtype='float32')\n",
    "    \n",
    "# calculate the delta\n",
    "  diff = y_pred - y_true\n",
    "    \n",
    "# mask delta and calculate the squared differences\n",
    "# so this ensures that any square difference that doesn't come from an actual rating has 0 contribution to the cost\n",
    "  sqdiff = diff * diff * mask\n",
    "    \n",
    "# sum up all the differences = sum of squared error\n",
    "  sse = K.sum(K.sum(sqdiff))\n",
    "    \n",
    "# n = number of ratings = sum of entries in the mask\n",
    "  n = K.sum(K.sum(mask))\n",
    "    \n",
    "# returm mean squared error(mse)\n",
    "  return sse / n\n"
   ]
  },
  {
   "cell_type": "code",
   "execution_count": 225,
   "id": "3ebd4a84",
   "metadata": {},
   "outputs": [],
   "source": [
    "\n",
    "# for training\n",
    "def generator(A, M):\n",
    "  while True:\n",
    "\n",
    "    # shuffle the data, since that should be done before each epoch\n",
    "    A, M = shuffle(A, M)\n",
    "    \n",
    "    # number of batches is aproximately equal to the length of the data devided by batch size\n",
    "    # but because it is integer it's always going to round down. so we add 1\n",
    "    for i in range(A.shape[0] // batch_size + 1):\n",
    "\n",
    "      # since we add 1, the last batch is always smaller than the other batches\n",
    "      # so we define the upper limit to be the minimum of (i+1)*batch_size, and the actual length \n",
    "      # of the data. so we don't go out of bounds of the array\n",
    "      upper = min((i+1)*batch_size, A.shape[0])\n",
    "    \n",
    "      # grab the current batch and it's corresponding mask\n",
    "      a = A[i*batch_size:upper].toarray()\n",
    "      m = M[i*batch_size:upper].toarray()\n",
    "        \n",
    "      # center the data. because mu is the global average rating, it's not exactly equal to an integer \n",
    "      # or an int point 5 and so there is no danger here to subtracting mu from the ratings and \n",
    "      # accidently setting some of them to 0.\n",
    "      # since that would make them not contributing to the cost. \n",
    "      # can not subtract mu from a. since if a contains 0 and you subtract mu from it,then you'll make \n",
    "      # the value -mu\n",
    "      # so subtract the mu only from the entries that have an actual rating\n",
    "\n",
    "      a = a - mu * m # must keep zeros at zero!\n",
    "        \n",
    "      # return the input and the targets\n",
    "      yield a, a\n"
   ]
  },
  {
   "cell_type": "code",
   "execution_count": 226,
   "id": "cb440642",
   "metadata": {},
   "outputs": [],
   "source": [
    "\n",
    "# for testing\n",
    "def test_generator(A_test, M_test):\n",
    "  # assumes A_test is in corresponding order\n",
    "  # of size N x M\n",
    "  while True:\n",
    "    for i in range(A.shape[0] // batch_size + 1):\n",
    "      upper = min((i+1)*batch_size, A.shape[0])\n",
    "      at = A_test[i*batch_size:upper].toarray()\n",
    "      mt = M_test[i*batch_size:upper].toarray()\n",
    "      at = at - mu * mt\n",
    "      yield at, at\n",
    "    \n"
   ]
  },
  {
   "cell_type": "code",
   "execution_count": 227,
   "id": "6f103d4f",
   "metadata": {},
   "outputs": [],
   "source": [
    "# we are passing custom_loss function twice. because these actually yield two different results. \n",
    "# when keras is training, it reports the regularized loss, so it's gonna print that out\n",
    "# so a loss you see is going to be a mse added to the L2 penalty, which is always bigger than just mse\n",
    "# but when we pass in the function as a metric, it returns only the value from the loss you pass in\n",
    "# so we will have 2 plots. one for the regularized mse and one for the pure mse\n",
    "model = Model(i, x)\n",
    "model.compile(\n",
    "  loss=custom_loss,\n",
    "  optimizer=SGD(lr=0.08, momentum=0.9),\n",
    "  # optimizer='adam',\n",
    "  metrics=[custom_loss],\n",
    ")"
   ]
  },
  {
   "cell_type": "code",
   "execution_count": 228,
   "id": "8f76f699",
   "metadata": {},
   "outputs": [
    {
     "name": "stdout",
     "output_type": "stream",
     "text": [
      "Epoch 1/20\n",
      "8/8 [==============================] - 1s 66ms/step - loss: 1.5986 - custom_loss: 1.3935 - val_loss: 1.4544 - val_custom_loss: 1.2483\n",
      "Epoch 2/20\n",
      "8/8 [==============================] - 0s 47ms/step - loss: 1.5144 - custom_loss: 1.3087 - val_loss: 1.3944 - val_custom_loss: 1.1889\n",
      "Epoch 3/20\n",
      "8/8 [==============================] - 0s 49ms/step - loss: 1.3936 - custom_loss: 1.1865 - val_loss: 1.3276 - val_custom_loss: 1.1227\n",
      "Epoch 4/20\n",
      "8/8 [==============================] - 0s 49ms/step - loss: 1.2883 - custom_loss: 1.0915 - val_loss: 1.2641 - val_custom_loss: 1.0599\n",
      "Epoch 5/20\n",
      "8/8 [==============================] - 0s 47ms/step - loss: 1.2018 - custom_loss: 0.9968 - val_loss: 1.2109 - val_custom_loss: 1.0071\n",
      "Epoch 6/20\n",
      "8/8 [==============================] - 0s 52ms/step - loss: 1.1359 - custom_loss: 0.9376 - val_loss: 1.1692 - val_custom_loss: 0.9659\n",
      "Epoch 7/20\n",
      "8/8 [==============================] - 0s 58ms/step - loss: 1.0719 - custom_loss: 0.8744 - val_loss: 1.1357 - val_custom_loss: 0.9329\n",
      "Epoch 8/20\n",
      "8/8 [==============================] - 0s 54ms/step - loss: 1.0286 - custom_loss: 0.8342 - val_loss: 1.1083 - val_custom_loss: 0.9060\n",
      "Epoch 9/20\n",
      "8/8 [==============================] - 0s 56ms/step - loss: 0.9874 - custom_loss: 0.7879 - val_loss: 1.0846 - val_custom_loss: 0.8827\n",
      "Epoch 10/20\n",
      "8/8 [==============================] - 0s 58ms/step - loss: 0.9466 - custom_loss: 0.7636 - val_loss: 1.0638 - val_custom_loss: 0.8624\n",
      "Epoch 11/20\n",
      "8/8 [==============================] - 0s 58ms/step - loss: 0.9258 - custom_loss: 0.7270 - val_loss: 1.0454 - val_custom_loss: 0.8443\n",
      "Epoch 12/20\n",
      "8/8 [==============================] - 0s 55ms/step - loss: 0.8883 - custom_loss: 0.6924 - val_loss: 1.0295 - val_custom_loss: 0.8288\n",
      "Epoch 13/20\n",
      "8/8 [==============================] - 0s 52ms/step - loss: 0.8659 - custom_loss: 0.6662 - val_loss: 1.0157 - val_custom_loss: 0.8154\n",
      "Epoch 14/20\n",
      "8/8 [==============================] - 0s 59ms/step - loss: 0.8432 - custom_loss: 0.6513 - val_loss: 1.0031 - val_custom_loss: 0.8032\n",
      "Epoch 15/20\n",
      "8/8 [==============================] - 0s 58ms/step - loss: 0.8217 - custom_loss: 0.6287 - val_loss: 0.9920 - val_custom_loss: 0.7924\n",
      "Epoch 16/20\n",
      "8/8 [==============================] - 1s 63ms/step - loss: 0.8066 - custom_loss: 0.6122 - val_loss: 0.9812 - val_custom_loss: 0.7820\n",
      "Epoch 17/20\n",
      "8/8 [==============================] - 0s 61ms/step - loss: 0.7948 - custom_loss: 0.6056 - val_loss: 0.9726 - val_custom_loss: 0.7736\n",
      "Epoch 18/20\n",
      "8/8 [==============================] - 0s 55ms/step - loss: 0.7801 - custom_loss: 0.5884 - val_loss: 0.9647 - val_custom_loss: 0.7662\n",
      "Epoch 19/20\n",
      "8/8 [==============================] - 0s 54ms/step - loss: 0.7637 - custom_loss: 0.5737 - val_loss: 0.9582 - val_custom_loss: 0.7601\n",
      "Epoch 20/20\n",
      "8/8 [==============================] - 0s 62ms/step - loss: 0.7520 - custom_loss: 0.5599 - val_loss: 0.9505 - val_custom_loss: 0.7526\n",
      "dict_keys(['loss', 'custom_loss', 'val_loss', 'val_custom_loss'])\n"
     ]
    }
   ],
   "source": [
    "# takes the generator for the training data, and test generator for the validation data\n",
    "\n",
    "r = model.fit_generator(\n",
    "  generator(A, mask),\n",
    "  validation_data=test_generator(A_test_copy, mask_test_copy),\n",
    "  epochs=epochs,\n",
    "  steps_per_epoch=A.shape[0] // batch_size + 1,\n",
    "  validation_steps=A_test.shape[0] // batch_size + 1,\n",
    ")\n",
    "print(r.history.keys())\n"
   ]
  },
  {
   "cell_type": "code",
   "execution_count": 229,
   "id": "d9b91809",
   "metadata": {},
   "outputs": [
    {
     "data": {
      "image/png": "[encoded data removed]",
      "text/plain": [
       "<Figure size 432x288 with 1 Axes>"
      ]
     },
     "metadata": {
      "needs_background": "light"
     },
     "output_type": "display_data"
    },
    {
     "data": {
      "image/png": "[encoded data removed]",
      "text/plain": [
       "<Figure size 432x288 with 1 Axes>"
      ]
     },
     "metadata": {
      "needs_background": "light"
     },
     "output_type": "display_data"
    }
   ],
   "source": [
    "# plot losses\n",
    "plt.plot(r.history['loss'], label=\"train loss\")\n",
    "plt.plot(r.history['val_loss'], label=\"test loss\")\n",
    "plt.legend()\n",
    "plt.show()\n",
    "\n",
    "# plot mse\n",
    "plt.plot(r.history['custom_loss'], label=\"train mse\")\n",
    "plt.plot(r.history['val_custom_loss'], label=\"test mse\")\n",
    "plt.legend()\n",
    "plt.show()"
   ]
  },
  {
   "cell_type": "code",
   "execution_count": 230,
   "id": "437e2a01",
   "metadata": {
    "scrolled": false
   },
   "outputs": [
    {
     "data": {
      "text/html": [
       "<div>\n",
       "<style scoped>\n",
       "    .dataframe tbody tr th:only-of-type {\n",
       "        vertical-align: middle;\n",
       "    }\n",
       "\n",
       "    .dataframe tbody tr th {\n",
       "        vertical-align: top;\n",
       "    }\n",
       "\n",
       "    .dataframe thead th {\n",
       "        text-align: right;\n",
       "    }\n",
       "</style>\n",
       "<table border=\"1\" class=\"dataframe\">\n",
       "  <thead>\n",
       "    <tr style=\"text-align: right;\">\n",
       "      <th></th>\n",
       "      <th>userId</th>\n",
       "      <th>movieId</th>\n",
       "      <th>rating</th>\n",
       "      <th>movie_idx</th>\n",
       "    </tr>\n",
       "  </thead>\n",
       "  <tbody>\n",
       "    <tr>\n",
       "      <th>0</th>\n",
       "      <td>195</td>\n",
       "      <td>242</td>\n",
       "      <td>3</td>\n",
       "      <td>241</td>\n",
       "    </tr>\n",
       "    <tr>\n",
       "      <th>1</th>\n",
       "      <td>185</td>\n",
       "      <td>302</td>\n",
       "      <td>3</td>\n",
       "      <td>301</td>\n",
       "    </tr>\n",
       "    <tr>\n",
       "      <th>2</th>\n",
       "      <td>21</td>\n",
       "      <td>377</td>\n",
       "      <td>1</td>\n",
       "      <td>376</td>\n",
       "    </tr>\n",
       "    <tr>\n",
       "      <th>3</th>\n",
       "      <td>243</td>\n",
       "      <td>51</td>\n",
       "      <td>2</td>\n",
       "      <td>50</td>\n",
       "    </tr>\n",
       "    <tr>\n",
       "      <th>4</th>\n",
       "      <td>165</td>\n",
       "      <td>346</td>\n",
       "      <td>1</td>\n",
       "      <td>345</td>\n",
       "    </tr>\n",
       "  </tbody>\n",
       "</table>\n",
       "</div>"
      ],
      "text/plain": [
       "   userId  movieId  rating  movie_idx\n",
       "0     195      242       3        241\n",
       "1     185      302       3        301\n",
       "2      21      377       1        376\n",
       "3     243       51       2         50\n",
       "4     165      346       1        345"
      ]
     },
     "execution_count": 230,
     "metadata": {},
     "output_type": "execute_result"
    }
   ],
   "source": [
    "df = pd.read_csv('C:\\\\Users\\\\p\\\\Notebooks\\\\Collaborative Filtering\\\\edited_rating.csv')\n",
    "df.head()"
   ]
  },
  {
   "cell_type": "code",
   "execution_count": 231,
   "id": "384e4ca7",
   "metadata": {},
   "outputs": [
    {
     "data": {
      "text/html": [
       "<div>\n",
       "<style scoped>\n",
       "    .dataframe tbody tr th:only-of-type {\n",
       "        vertical-align: middle;\n",
       "    }\n",
       "\n",
       "    .dataframe tbody tr th {\n",
       "        vertical-align: top;\n",
       "    }\n",
       "\n",
       "    .dataframe thead th {\n",
       "        text-align: right;\n",
       "    }\n",
       "</style>\n",
       "<table border=\"1\" class=\"dataframe\">\n",
       "  <thead>\n",
       "    <tr style=\"text-align: right;\">\n",
       "      <th></th>\n",
       "      <th>item_id</th>\n",
       "      <th>title</th>\n",
       "    </tr>\n",
       "  </thead>\n",
       "  <tbody>\n",
       "    <tr>\n",
       "      <th>0</th>\n",
       "      <td>1</td>\n",
       "      <td>Toy Story (1995)</td>\n",
       "    </tr>\n",
       "    <tr>\n",
       "      <th>1</th>\n",
       "      <td>2</td>\n",
       "      <td>GoldenEye (1995)</td>\n",
       "    </tr>\n",
       "    <tr>\n",
       "      <th>2</th>\n",
       "      <td>3</td>\n",
       "      <td>Four Rooms (1995)</td>\n",
       "    </tr>\n",
       "    <tr>\n",
       "      <th>3</th>\n",
       "      <td>4</td>\n",
       "      <td>Get Shorty (1995)</td>\n",
       "    </tr>\n",
       "    <tr>\n",
       "      <th>4</th>\n",
       "      <td>5</td>\n",
       "      <td>Copycat (1995)</td>\n",
       "    </tr>\n",
       "  </tbody>\n",
       "</table>\n",
       "</div>"
      ],
      "text/plain": [
       "   item_id              title\n",
       "0        1   Toy Story (1995)\n",
       "1        2   GoldenEye (1995)\n",
       "2        3  Four Rooms (1995)\n",
       "3        4  Get Shorty (1995)\n",
       "4        5     Copycat (1995)"
      ]
     },
     "execution_count": 231,
     "metadata": {},
     "output_type": "execute_result"
    }
   ],
   "source": [
    "movies = pd.read_csv('C:\\\\Users\\\\p\\\\Notebooks\\\\Collaborative Filtering\\\\Movielens_Titles.csv',encoding= 'unicode_escape')\n",
    "movies.head()"
   ]
  },
  {
   "cell_type": "code",
   "execution_count": 233,
   "id": "d32e3ffa",
   "metadata": {},
   "outputs": [
    {
     "data": {
      "text/plain": [
       "array([ 0,  2,  4,  5,  6,  8,  9, 12, 13, 14], dtype=int64)"
      ]
     },
     "execution_count": 233,
     "metadata": {},
     "output_type": "execute_result"
    }
   ],
   "source": [
    "# user_ids in edited_ratings.csv file, starts from 0 ... N-1\n",
    "my_user_id = 0\n",
    "my_user_interaction = A_pred_copy[my_user_id].todense()\n",
    "\n",
    "a = np.array(my_user_interaction).flatten()\n",
    "\n",
    "# since the actual ratings are always between 0.5 to 5, rating 0 for a movie means that this user\n",
    "# has not watched this movie yet\n",
    "movies_not_watched = np.where(a == 0)[0]\n",
    "movies_not_watched[:10]\n"
   ]
  },
  {
   "cell_type": "code",
   "execution_count": 234,
   "id": "e8c3b489",
   "metadata": {
    "scrolled": true
   },
   "outputs": [
    {
     "data": {
      "text/plain": [
       "array([1.0256788 , 1.4918416 , 0.31297582, ..., 0.4498946 , 0.9152818 ,\n",
       "       0.27727848], dtype=float32)"
      ]
     },
     "execution_count": 234,
     "metadata": {},
     "output_type": "execute_result"
    }
   ],
   "source": [
    "# predict the ratings for user\n",
    "pred = model.predict(my_user_interaction).flatten()\n",
    "pred"
   ]
  },
  {
   "cell_type": "code",
   "execution_count": 235,
   "id": "1a18612f",
   "metadata": {},
   "outputs": [
    {
     "data": {
      "text/plain": [
       "array([ 1.0256788 ,  0.31297582, -0.2730075 , ...,  0.4498946 ,\n",
       "        0.9152818 ,  0.27727848], dtype=float32)"
      ]
     },
     "execution_count": 235,
     "metadata": {},
     "output_type": "execute_result"
    }
   ],
   "source": [
    "# predicted ratings for movies that user has not watched\n",
    "predicted_movies_not_watched = np.array([pred[i] for i in movies_not_watched])\n",
    "predicted_movies_not_watched"
   ]
  },
  {
   "cell_type": "code",
   "execution_count": 194,
   "id": "0f7637c6",
   "metadata": {
    "scrolled": true
   },
   "outputs": [
    {
     "data": {
      "text/plain": [
       "[(693, 2.1059258),\n",
       " (179, 1.8456361),\n",
       " (210, 1.7627332),\n",
       " (173, 1.732012),\n",
       " (611, 1.7192918),\n",
       " (97, 1.6773809),\n",
       " (600, 1.6619753),\n",
       " (662, 1.6452038),\n",
       " (432, 1.6380984),\n",
       " (45, 1.6293184)]"
      ]
     },
     "execution_count": 194,
     "metadata": {},
     "output_type": "execute_result"
    }
   ],
   "source": [
    "# create a tuple of predicted ratings and indices of movies\n",
    "list_tuples = list(zip(movies_not_watched, predicted_movies_not_watched))\n",
    "\n",
    "# sort this tuple in descending order\n",
    "list_tuples = sorted(list_tuples, key=lambda x: x[1], reverse=True)\n",
    "list_tuples[:10]"
   ]
  },
  {
   "cell_type": "code",
   "execution_count": 236,
   "id": "4ca7e107",
   "metadata": {},
   "outputs": [
    {
     "name": "stdout",
     "output_type": "stream",
     "text": [
      "Eat Drink Man Woman (1994)\n",
      "Dances with Wolves (1990)\n",
      "Princess Bride, The (1987)\n",
      "Clockwork Orange, A (1971)\n",
      "Indiana Jones and the Last Crusade (1989)\n",
      "Fantasia (1940)\n",
      "Daniel Defoe's Robinson Crusoe (1996)\n",
      "Laura (1944)\n",
      "Somewhere in Time (1980)\n",
      "Casino (1995)\n"
     ]
    }
   ],
   "source": [
    "movie_indices_for_top_rating = list(list_tuples[i][0] for i in range (0,10))\n",
    "\n",
    "# find the actual movieId \n",
    "for movie_index in movie_indices_for_top_rating:\n",
    "    movie_index = df[df['movie_idx'] == movie_index]['movieId']\n",
    "\n",
    "# find titles of top rating movie indices and print those titles\n",
    "recommended_movies = movies[movies[\"item_id\"].isin(movie_indices_for_top_rating)]\n",
    "for row in recommended_movies.itertuples():\n",
    "    print(row.title)"
   ]
  },
  {
   "cell_type": "code",
   "execution_count": null,
   "id": "502bbe0c",
   "metadata": {},
   "outputs": [],
   "source": []
  }
 ],
 "metadata": {
  "kernelspec": {
   "display_name": "Python 3",
   "language": "python",
   "name": "python3"
  },
  "language_info": {
   "codemirror_mode": {
    "name": "ipython",
    "version": 3
   },
   "file_extension": ".py",
   "mimetype": "text/x-python",
   "name": "python",
   "nbconvert_exporter": "python",
   "pygments_lexer": "ipython3",
   "version": "3.8.8"
  }
 },
 "nbformat": 4,
 "nbformat_minor": 5
}
